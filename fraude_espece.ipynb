{
 "cells": [
  {
   "cell_type": "code",
   "execution_count": 1,
   "id": "99a7e562",
   "metadata": {},
   "outputs": [],
   "source": [
    "import pandas as pd\n",
    "import numpy as np\n",
    "from sklearn.preprocessing import StandardScaler\n",
    "from sklearn.ensemble import IsolationForest\n",
    "from sklearn.feature_extraction.text import TfidfVectorizer\n",
    "from sklearn.decomposition import PCA\n",
    "import joblib\n",
    "\n",
    "\n",
    "# 1) Chargement des données\n",
    "df = pd.read_csv(\"new_data.csv\", delimiter=\";\", encoding=\"latin1\")"
   ]
  },
  {
   "cell_type": "code",
   "execution_count": null,
   "id": "b0eac6e1",
   "metadata": {},
   "outputs": [],
   "source": [
    "# 2) Préparer features pour fraude d'espèce\n",
    "# Nettoyage minimal des textes\n",
    "\"\"\"df['item_desc_text'] = df['item_desc'].fillna('').astype(str).str.lower()\n",
    "if df['item_desc_text'].str.strip().eq('').all():\n",
    "    df['item_desc_text'] = 'no_description'  # permet TF-IDF même si vide\n",
    "\n",
    "# TF-IDF sur description d'article\n",
    "tfidf = TfidfVectorizer(max_features=300, stop_words=None)\n",
    "tfidf_mat = tfidf.fit_transform(df['item_desc_text'])\n",
    "\n",
    "# Réduction dimensionnelle pour éviter trop de dimensions\n",
    "pca_desc = PCA(n_components=min(10, tfidf_mat.shape[1]-1) if tfidf_mat.shape[1]>1 else 1)\n",
    "desc_emb = pca_desc.fit_transform(tfidf_mat.toarray()) if tfidf_mat.shape[1] > 1 else np.zeros((len(df),1))\"\"\"\n",
    "\n",
    "# Features numériques liées à l'espèce / type de produit\n",
    "df['net_weight_kg'] = df['net_weight_kg'].fillna(df['gross_weight_kg']*0.98)\n",
    "df['gross_net_ratio'] = df['gross_weight_kg'] / (df['net_weight_kg'] + 1e-6)\n",
    "df['item_count'] = df['item_count'].fillna(1)\n",
    "df['weight_per_item'] = df['net_weight_kg'] / df['item_count']\n",
    "\n",
    "# Encodage fréquence des pays et codes HS (mesure rareté)\n",
    "df['origin_country'] = df['origin_country'].fillna('UNKNOWN').astype(str)\n",
    "df['hs_cod'] = df['hs_cod'].fillna('UNK').astype(str)\n",
    "\n",
    "# encodages simples en comptant fréquence\n",
    "origin_freq = df['origin_country'].value_counts(normalize=True).to_dict()\n",
    "hs_freq = df['hs_cod'].value_counts(normalize=True).to_dict()\n",
    "df['origin_country_freq'] = df['origin_country'].map(origin_freq)\n",
    "df['hs_cod_freq'] = df['hs_cod'].map(hs_freq)\n",
    "\n",
    "# Sélection des features numériques\n",
    "num_features = ['net_weight_kg', 'gross_net_ratio', 'weight_per_item', \n",
    "                'origin_country_freq', 'hs_cod_freq']\n",
    "\n",
    "# Remplir les NaN avant np.hstack\n",
    "df[num_features] = df[num_features].fillna(0)\n",
    "\n",
    "# Créer la matrice X\n",
    "X = np.hstack([df[num_features].values])  \n",
    "\n",
    "# Standardisation\n",
    "scaler = StandardScaler()\n",
    "X_scaled = scaler.fit_transform(X)\n"
   ]
  },
  {
   "cell_type": "code",
   "execution_count": null,
   "id": "1699ae7f",
   "metadata": {},
   "outputs": [],
   "source": [
    "# 3) Isolation Forest pour détecter anomalies\n",
    "iso = IsolationForest(n_estimators=200, contamination=0.05, random_state=42)\n",
    "df['fraude_spec'] = iso.fit_predict(X_scaled)\n",
    "df['fraude_spec'] = df['fraude_spec'].map({-1:1, 1:0}\n",
    "df['score_fraude_spec'] = iso.decision_function(X_scaled)"
   ]
  },
  {
   "cell_type": "code",
   "execution_count": 10,
   "id": "33fa270f",
   "metadata": {},
   "outputs": [
    {
     "data": {
      "text/plain": [
       "['model_spec.joblib']"
      ]
     },
     "execution_count": 10,
     "metadata": {},
     "output_type": "execute_result"
    }
   ],
   "source": [
    "# 4) Sauvegarde du modèle et du scaler\n",
    "joblib.dump((iso, scaler), \"model_spec.joblib\")"
   ]
  },
  {
   "cell_type": "code",
   "execution_count": 11,
   "id": "14f71662",
   "metadata": {},
   "outputs": [
    {
     "data": {
      "text/html": [
       "<div>\n",
       "<style scoped>\n",
       "    .dataframe tbody tr th:only-of-type {\n",
       "        vertical-align: middle;\n",
       "    }\n",
       "\n",
       "    .dataframe tbody tr th {\n",
       "        vertical-align: top;\n",
       "    }\n",
       "\n",
       "    .dataframe thead th {\n",
       "        text-align: right;\n",
       "    }\n",
       "</style>\n",
       "<table border=\"1\" class=\"dataframe\">\n",
       "  <thead>\n",
       "    <tr style=\"text-align: right;\">\n",
       "      <th></th>\n",
       "      <th>instanceid</th>\n",
       "      <th>fraude_spec</th>\n",
       "      <th>score_fraude_spec</th>\n",
       "    </tr>\n",
       "  </thead>\n",
       "  <tbody>\n",
       "    <tr>\n",
       "      <th>0</th>\n",
       "      <td>33095</td>\n",
       "      <td>0</td>\n",
       "      <td>0.086913</td>\n",
       "    </tr>\n",
       "    <tr>\n",
       "      <th>1</th>\n",
       "      <td>33096</td>\n",
       "      <td>1</td>\n",
       "      <td>-0.073261</td>\n",
       "    </tr>\n",
       "    <tr>\n",
       "      <th>2</th>\n",
       "      <td>33096</td>\n",
       "      <td>0</td>\n",
       "      <td>0.028229</td>\n",
       "    </tr>\n",
       "    <tr>\n",
       "      <th>3</th>\n",
       "      <td>33097</td>\n",
       "      <td>1</td>\n",
       "      <td>-0.083298</td>\n",
       "    </tr>\n",
       "    <tr>\n",
       "      <th>4</th>\n",
       "      <td>33098</td>\n",
       "      <td>0</td>\n",
       "      <td>0.068808</td>\n",
       "    </tr>\n",
       "  </tbody>\n",
       "</table>\n",
       "</div>"
      ],
      "text/plain": [
       "   instanceid  fraude_spec  score_fraude_spec\n",
       "0       33095            0           0.086913\n",
       "1       33096            1          -0.073261\n",
       "2       33096            0           0.028229\n",
       "3       33097            1          -0.083298\n",
       "4       33098            0           0.068808"
      ]
     },
     "execution_count": 11,
     "metadata": {},
     "output_type": "execute_result"
    }
   ],
   "source": [
    "# 5) Résultat\n",
    "df[['instanceid','fraude_spec','score_fraude_spec']].head()"
   ]
  }
 ],
 "metadata": {
  "kernelspec": {
   "display_name": "base",
   "language": "python",
   "name": "python3"
  },
  "language_info": {
   "codemirror_mode": {
    "name": "ipython",
    "version": 3
   },
   "file_extension": ".py",
   "mimetype": "text/x-python",
   "name": "python",
   "nbconvert_exporter": "python",
   "pygments_lexer": "ipython3",
   "version": "3.11.5"
  }
 },
 "nbformat": 4,
 "nbformat_minor": 5
}

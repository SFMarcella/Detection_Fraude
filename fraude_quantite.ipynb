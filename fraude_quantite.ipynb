{
 "cells": [
  {
   "cell_type": "code",
   "execution_count": null,
   "id": "69122659",
   "metadata": {},
   "outputs": [],
   "source": [
    "import pandas as pd\n",
    "import numpy as np\n",
    "from sklearn.ensemble import IsolationForest\n",
    "from sklearn.svm import OneClassSVM\n",
    "from sklearn.preprocessing import StandardScaler\n",
    "from sklearn.metrics import silhouette_score, davies_bouldin_score\n",
    "from tensorflow.keras.models import Model\n",
    "from tensorflow.keras.layers import Input, Dense\n",
    "from tensorflow.keras import regularizers\n",
    "import joblib\n",
    "\n",
    "\n",
    "df = pd.read_csv(\"new_data.csv\", delimiter=\";\", encoding=\"latin1\")\n",
    "df.head()"
   ]
  },
  {
   "cell_type": "code",
   "execution_count": null,
   "id": "ff0258b8",
   "metadata": {},
   "outputs": [],
   "source": [
    "# Feature engineering\n",
    "df[\"gross_net_ratio\"] = df[\"gross_weight_kg\"] / (df[\"net_weight_kg\"] + 1e-6)\n",
    "df[\"weight_per_item\"] = df[\"net_weight_kg\"] / (df[\"item_count\"] + 1e-6)\n",
    "df[\"val_per_net_weight\"] = df[\"assessed_value_usd\"] / (df[\"net_weight_kg\"] + 1e-6)\n",
    "\n",
    "# Colonnes pertinentes\n",
    "features = [\n",
    "    \"gross_net_ratio\",\n",
    "    \"weight_per_item\",\n",
    "    \"val_per_net_weight\",\n",
    "    \"hs_code_diversity\",\n",
    "    \"value_per_kg\"\n",
    "]\n",
    "X = df[features].replace([np.inf, -np.inf], np.nan).fillna(0)"
   ]
  },
  {
   "cell_type": "code",
   "execution_count": 2,
   "id": "cfb51640",
   "metadata": {},
   "outputs": [],
   "source": [
    "# Standardisation\n",
    "scaler = StandardScaler()\n",
    "X_scaled = scaler.fit_transform(X)"
   ]
  },
  {
   "cell_type": "code",
   "execution_count": 3,
   "id": "06c5b606",
   "metadata": {},
   "outputs": [],
   "source": [
    "# Isolation Forest\n",
    "iso = IsolationForest(contamination=0.05, random_state=42)\n",
    "df[\"iso_pred\"] = iso.fit_predict(X_scaled)\n",
    "df[\"iso_pred\"] = df[\"iso_pred\"].map({-1: 1, 1: 0})"
   ]
  },
  {
   "cell_type": "code",
   "execution_count": null,
   "id": "4432952a",
   "metadata": {},
   "outputs": [],
   "source": [
    "# One-Class SVM\n",
    "ocsvm = OneClassSVM(kernel=\"rbf\", gamma=\"auto\", nu=0.05)\n",
    "df[\"svm_pred\"] = ocsvm.fit_predict(X_scaled)\n",
    "df[\"svm_pred\"] = df[\"svm_pred\"].map({-1: 1, 1: 0})"
   ]
  },
  {
   "cell_type": "code",
   "execution_count": null,
   "id": "23e74456",
   "metadata": {},
   "outputs": [],
   "source": [
    "# Autoencoder\n",
    "input_dim = X_scaled.shape[1]\n",
    "encoding_dim = 3\n",
    "\n",
    "# Réseau autoencodeur\n",
    "input_layer = Input(shape=(input_dim,))\n",
    "encoder = Dense(encoding_dim, activation=\"relu\", activity_regularizer=regularizers.l1(1e-5))(input_layer)\n",
    "decoder = Dense(input_dim, activation=\"sigmoid\")(encoder)\n",
    "autoencoder = Model(inputs=input_layer, outputs=decoder)\n",
    "\n",
    "autoencoder.compile(optimizer=\"adam\", loss=\"mse\")\n",
    "autoencoder.fit(X_scaled, X_scaled, epochs=50, batch_size=32, shuffle=True, verbose=0)\n",
    "\n",
    "# Reconstruction\n",
    "reconstructions = autoencoder.predict(X_scaled)\n",
    "mse = np.mean(np.power(X_scaled - reconstructions, 2), axis=1)\n",
    "threshold = np.percentile(mse, 95) \n",
    "df[\"ae_pred\"] = (mse > threshold).astype(int)  # 1 = anomalie"
   ]
  },
  {
   "cell_type": "code",
   "execution_count": null,
   "id": "2bcb5712",
   "metadata": {},
   "outputs": [],
   "source": [
    "# Comparaison métriques\n",
    "results = {}\n",
    "\n",
    "for model in [\"iso_pred\", \"svm_pred\", \"ae_pred\"]:\n",
    "    anomalies = df[model].sum()\n",
    "    prop = anomalies / len(df)\n",
    "    try:\n",
    "        sil = silhouette_score(X_scaled, df[model])\n",
    "        db = davies_bouldin_score(X_scaled, df[model])\n",
    "    except:\n",
    "        sil, db = None, None\n",
    "    results[model] = {\n",
    "        \"Anomalies détectées\": anomalies,\n",
    "        \"Proportion\": round(prop, 3),\n",
    "        \"Silhouette\": sil,\n",
    "        \"Davies-Bouldin\": db\n",
    "    }"
   ]
  },
  {
   "cell_type": "code",
   "execution_count": null,
   "id": "8e53fadf",
   "metadata": {},
   "outputs": [],
   "source": [
    "# Affichage des résultats comparatifs\n",
    "results_df = pd.DataFrame(results).T\n",
    "print(results_df)\n",
    "\n",
    "# Sauvegarde\n",
    "df.to_csv(\"fraude_quantite_models.csv\", index=False)"
   ]
  }
 ],
 "metadata": {
  "kernelspec": {
   "display_name": "base",
   "language": "python",
   "name": "python3"
  },
  "language_info": {
   "codemirror_mode": {
    "name": "ipython",
    "version": 3
   },
   "file_extension": ".py",
   "mimetype": "text/x-python",
   "name": "python",
   "nbconvert_exporter": "python",
   "pygments_lexer": "ipython3",
   "version": "3.11.5"
  }
 },
 "nbformat": 4,
 "nbformat_minor": 5
}
